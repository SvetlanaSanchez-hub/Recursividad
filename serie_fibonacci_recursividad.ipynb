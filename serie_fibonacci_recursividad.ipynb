{
  "nbformat": 4,
  "nbformat_minor": 0,
  "metadata": {
    "colab": {
      "name": "serie_fibonacci_recursividad.ipynb",
      "provenance": []
    },
    "kernelspec": {
      "name": "python3",
      "display_name": "Python 3"
    },
    "language_info": {
      "name": "python"
    }
  },
  "cells": [
    {
      "cell_type": "code",
      "metadata": {
        "id": "-lEWUyiA-v8e"
      },
      "source": [
        "def fibonacci( n ):\n",
        "    if n == 0:\n",
        "        return 0\n",
        "    elif n==1:\n",
        "        return 1\n",
        "    else:\n",
        "        return fibonacci ( n-1 ) + fibonacci ( n-2 )"
      ],
      "execution_count": 7,
      "outputs": []
    },
    {
      "cell_type": "code",
      "metadata": {
        "colab": {
          "base_uri": "https://localhost:8080/"
        },
        "id": "N2hHM8ByDA8y",
        "outputId": "db94e258-fe92-4b24-a1bd-44c1396fd4cc"
      },
      "source": [
        "n = int (input( \"Introduce un número entero: \"))\n",
        "print( fibonacci( n ) )"
      ],
      "execution_count": 13,
      "outputs": [
        {
          "output_type": "stream",
          "name": "stdout",
          "text": [
            "Introduce un número entero: 6\n",
            "8\n"
          ]
        }
      ]
    }
  ]
}
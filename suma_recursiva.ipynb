{
  "nbformat": 4,
  "nbformat_minor": 0,
  "metadata": {
    "colab": {
      "name": "suma_recursiva.ipynb",
      "provenance": [],
      "collapsed_sections": []
    },
    "kernelspec": {
      "name": "python3",
      "display_name": "Python 3"
    },
    "language_info": {
      "name": "python"
    }
  },
  "cells": [
    {
      "cell_type": "code",
      "metadata": {
        "colab": {
          "base_uri": "https://localhost:8080/"
        },
        "id": "W1GRTXXEO7ev",
        "outputId": "a2b73282-c4d0-4d39-fe13-b1f710468d72"
      },
      "source": [
        "lista = [ 2, 4, 6, 8]\n",
        "def sumaRecursiva ( lista ):\n",
        "    if len( lista ) == 0:\n",
        "        return 0\n",
        "    else:\n",
        "        return lista [ 0 ] + sumaRecursiva( lista [1:] )\n",
        "print(sumaRecursiva(lista))\n",
        "                                "
      ],
      "execution_count": 10,
      "outputs": [
        {
          "output_type": "stream",
          "name": "stdout",
          "text": [
            "20\n"
          ]
        }
      ]
    }
  ]
}
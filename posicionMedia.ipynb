{
  "nbformat": 4,
  "nbformat_minor": 0,
  "metadata": {
    "colab": {
      "name": "posicionMedia.ipynb",
      "provenance": []
    },
    "kernelspec": {
      "name": "python3",
      "display_name": "Python 3"
    },
    "language_info": {
      "name": "python"
    }
  },
  "cells": [
    {
      "cell_type": "code",
      "metadata": {
        "id": "1E1WU42rXwxL",
        "colab": {
          "base_uri": "https://localhost:8080/"
        },
        "outputId": "947c9119-83ee-4934-ca3b-0ed311dc9cfa"
      },
      "source": [
        "lista_variables = [2, \"Sve\", 4, 7]\n",
        "lista_variables.pop(1)\n",
        "print( lista_variables )\n",
        "\n",
        "        \n",
        "        \n",
        "        \n",
        "\n"
      ],
      "execution_count": 29,
      "outputs": [
        {
          "output_type": "stream",
          "name": "stdout",
          "text": [
            "[2, 4, 7]\n"
          ]
        }
      ]
    }
  ]
}
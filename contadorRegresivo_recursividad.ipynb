{
  "nbformat": 4,
  "nbformat_minor": 0,
  "metadata": {
    "colab": {
      "name": "contadorRegresivo_recursividad.ipynb",
      "provenance": [],
      "collapsed_sections": []
    },
    "kernelspec": {
      "name": "python3",
      "display_name": "Python 3"
    },
    "language_info": {
      "name": "python"
    }
  },
  "cells": [
    {
      "cell_type": "code",
      "metadata": {
        "id": "U8WbOaBUV323"
      },
      "source": [
        "def contadorRegresivo ( n ):\n",
        "    if n >=0:\n",
        "        print( n )\n",
        "        contadorRegresivo ( n - 1 )\n",
        "        if n == 0:\n",
        "            print(\"BOOOOMM!!\")"
      ],
      "execution_count": 2,
      "outputs": []
    },
    {
      "cell_type": "code",
      "metadata": {
        "colab": {
          "base_uri": "https://localhost:8080/"
        },
        "id": "vQSe_OuAXdFW",
        "outputId": "0d01b46b-e885-4b2a-f4d5-b591b8febaac"
      },
      "source": [
        "contadorRegresivo( 15 )"
      ],
      "execution_count": 3,
      "outputs": [
        {
          "output_type": "stream",
          "name": "stdout",
          "text": [
            "15\n",
            "14\n",
            "13\n",
            "12\n",
            "11\n",
            "10\n",
            "9\n",
            "8\n",
            "7\n",
            "6\n",
            "5\n",
            "4\n",
            "3\n",
            "2\n",
            "1\n",
            "0\n",
            "BOOOOMM!!\n"
          ]
        }
      ]
    }
  ]
}